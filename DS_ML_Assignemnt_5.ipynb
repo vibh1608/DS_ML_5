{
 "cells": [
  {
   "cell_type": "code",
   "execution_count": 31,
   "metadata": {},
   "outputs": [],
   "source": [
    "#importing packages\n",
    "import numpy as np   #importing numpy for array handling\n",
    "import pandas as pd  #importing pandas for data preprocessing\n",
    "import matplotlib.pyplot as plt  #importing matplotlib for data visualization\n",
    "import seaborn as sns  #importing seaborn for data visualization\n",
    "from sklearn.model_selection import train_test_split  #importing train_test_split to get train and test data set from complete data\n",
    "from sklearn.preprocessing import StandardScaler  #importing StandardScaler for normalizing features which may be in different units\n",
    "from sklearn import datasets  #importing datasets for data processing"
   ]
  },
  {
   "cell_type": "code",
   "execution_count": 32,
   "metadata": {},
   "outputs": [],
   "source": [
    "#loading boston dataset\n",
    "boston = datasets.load_boston()\n",
    "\n",
    "#renaming the columns with feature names\n",
    "features = pd.DataFrame(boston.data, columns=boston.feature_names)\n",
    "\n",
    "#getting the target column(output column in targets)\n",
    "targets = boston.target"
   ]
  },
  {
   "cell_type": "code",
   "execution_count": 33,
   "metadata": {},
   "outputs": [
    {
     "name": "stdout",
     "output_type": "stream",
     "text": [
      "      CRIM    ZN  INDUS  CHAS    NOX     RM   AGE     DIS  RAD    TAX  \\\n",
      "0  0.00632  18.0   2.31   0.0  0.538  6.575  65.2  4.0900  1.0  296.0   \n",
      "1  0.02731   0.0   7.07   0.0  0.469  6.421  78.9  4.9671  2.0  242.0   \n",
      "2  0.02729   0.0   7.07   0.0  0.469  7.185  61.1  4.9671  2.0  242.0   \n",
      "3  0.03237   0.0   2.18   0.0  0.458  6.998  45.8  6.0622  3.0  222.0   \n",
      "4  0.06905   0.0   2.18   0.0  0.458  7.147  54.2  6.0622  3.0  222.0   \n",
      "\n",
      "   PTRATIO       B  LSTAT  PRICE  \n",
      "0     15.3  396.90   4.98   24.0  \n",
      "1     17.8  396.90   9.14   21.6  \n",
      "2     17.8  392.83   4.03   34.7  \n",
      "3     18.7  394.63   2.94   33.4  \n",
      "4     18.7  396.90   5.33   36.2  \n"
     ]
    }
   ],
   "source": [
    "#loading the data into bos dataframe\n",
    "bos = pd.DataFrame(boston.data)\n",
    "\n",
    "#renaming the columns with it's feature names\n",
    "bos.columns = boston.feature_names\n",
    "\n",
    "#adding the price column to the bos\n",
    "bos['PRICE'] = boston.target\n",
    "\n",
    "#printing the top 5 records\n",
    "print(bos.head())"
   ]
  },
  {
   "cell_type": "code",
   "execution_count": 34,
   "metadata": {},
   "outputs": [],
   "source": [
    "#differentiating independent features and storing them in X \n",
    "X = bos.iloc[:, :-1].values\n",
    "\n",
    "#differentiating dependent(output) features from dataframe and storing them in Y\n",
    "y = bos.iloc[:, -1].values"
   ]
  },
  {
   "cell_type": "code",
   "execution_count": 35,
   "metadata": {},
   "outputs": [],
   "source": [
    "# Splitting the dataset into the Training set and Test set\n",
    "X_train, X_test, y_train, y_test = train_test_split(X, y, test_size = 0.2, random_state = 3)"
   ]
  },
  {
   "cell_type": "code",
   "execution_count": 36,
   "metadata": {},
   "outputs": [],
   "source": [
    "#creating instance of StandardScaler for performing mean normalization\n",
    "sc = StandardScaler()\n",
    "\n",
    "#normalizing train input dataset\n",
    "X_train = sc.fit_transform(X_train)\n",
    "\n",
    "#normalizing test input dataset\n",
    "X_test = sc.transform(X_test)"
   ]
  },
  {
   "cell_type": "code",
   "execution_count": 37,
   "metadata": {},
   "outputs": [],
   "source": [
    "#importing package for fitting data into RandomForestRegressor model\n",
    "from sklearn.ensemble import RandomForestRegressor"
   ]
  },
  {
   "cell_type": "code",
   "execution_count": 38,
   "metadata": {},
   "outputs": [
    {
     "data": {
      "text/plain": [
       "RandomForestRegressor(bootstrap=True, criterion='mse', max_depth=None,\n",
       "           max_features='auto', max_leaf_nodes=None,\n",
       "           min_impurity_decrease=0.0, min_impurity_split=None,\n",
       "           min_samples_leaf=1, min_samples_split=2,\n",
       "           min_weight_fraction_leaf=0.0, n_estimators=100, n_jobs=1,\n",
       "           oob_score=False, random_state=0, verbose=0, warm_start=False)"
      ]
     },
     "execution_count": 38,
     "metadata": {},
     "output_type": "execute_result"
    }
   ],
   "source": [
    "#creating instance of RandomForestRegressor model\n",
    "regressor = RandomForestRegressor(n_estimators=100,random_state=0)\n",
    "\n",
    "#fitting training dataset into the model\n",
    "regressor.fit(X_train,y_train)"
   ]
  },
  {
   "cell_type": "code",
   "execution_count": 39,
   "metadata": {},
   "outputs": [],
   "source": [
    "#predicting the testset output from the model and storing them in y_pred\n",
    "y_pred = regressor.predict(X_test)"
   ]
  },
  {
   "cell_type": "code",
   "execution_count": 40,
   "metadata": {},
   "outputs": [
    {
     "name": "stdout",
     "output_type": "stream",
     "text": [
      "90.81940932283322\n"
     ]
    }
   ],
   "source": [
    "#importing package to find accuracy of the model\n",
    "from sklearn.metrics import r2_score\n",
    "\n",
    "#calculating the accuracy of model using r2_score \n",
    "score=r2_score(y_test,y_pred)\n",
    "\n",
    "#printing the accuracy score of the model\n",
    "print(score*100)"
   ]
  },
  {
   "cell_type": "code",
   "execution_count": 41,
   "metadata": {},
   "outputs": [
    {
     "data": {
      "image/png": "[encoded data removed]",
      "text/plain": [
       "<Figure size 432x288 with 1 Axes>"
      ]
     },
     "metadata": {
      "needs_background": "light"
     },
     "output_type": "display_data"
    }
   ],
   "source": [
    "#plotting the expected value v/s predicted value\n",
    "plt.scatter(y_test,y_pred,color='blue')\n",
    "\n",
    "#setting the title to the plot\n",
    "plt.title('expected value v/s predicted value')\n",
    "\n",
    "#setting X_label to the plot\n",
    "plt.xlabel('expected value')\n",
    "\n",
    "#setting Y_label to the plot\n",
    "plt.ylabel('predicted value')\n",
    "\n",
    "#showing the plot\n",
    "plt.show()"
   ]
  },
  {
   "cell_type": "code",
   "execution_count": null,
   "metadata": {},
   "outputs": [],
   "source": []
  }
 ],
 "metadata": {
  "kernelspec": {
   "display_name": "Python 3",
   "language": "python",
   "name": "python3"
  },
  "language_info": {
   "codemirror_mode": {
    "name": "ipython",
    "version": 3
   },
   "file_extension": ".py",
   "mimetype": "text/x-python",
   "name": "python",
   "nbconvert_exporter": "python",
   "pygments_lexer": "ipython3",
   "version": "3.7.0"
  }
 },
 "nbformat": 4,
 "nbformat_minor": 2
}
